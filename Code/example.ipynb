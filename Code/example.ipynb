{
 "cells": [
  {
   "cell_type": "code",
   "execution_count": 1,
   "id": "503b8ec0",
   "metadata": {},
   "outputs": [],
   "source": [
    "import numpy as np\n",
    "import matplotlib.pyplot as plt\n",
    "from sklearn.cluster import KMeans"
   ]
  },
  {
   "cell_type": "code",
   "execution_count": null,
   "id": "1d440304",
   "metadata": {},
   "outputs": [
    {
     "name": "stdout",
     "output_type": "stream",
     "text": [
      "Centróides iniciais: [15. 25. 40.]\n",
      "\n",
      "Iteração 1\n",
      "Atribuição de clusters: [0 0 0 0 1 1 2 2 2 2]\n",
      "Novos centróides: [14.75 23.5  38.25]\n",
      "\n",
      "Iteração 2\n",
      "Atribuição de clusters: [0 0 0 0 1 1 2 2 2 2]\n",
      "Novos centróides: [14.75 23.5  38.25]\n",
      "\n",
      "? Convergência atingida!\n",
      "\n",
      "Cluster 1: [12 14 15 18] (centróide = 14.75)\n",
      "\n",
      "Cluster 2: [22 25] (centróide = 23.50)\n",
      "\n",
      "Cluster 3: [33 35 40 45] (centróide = 38.25)\n"
     ]
    },
    {
     "data": {
      "image/png": "[encoded data removed]",
      "text/plain": [
       "<Figure size 800x200 with 1 Axes>"
      ]
     },
     "metadata": {},
     "output_type": "display_data"
    }
   ],
   "source": [
    "# 1. Dados iniciais (idades)\n",
    "idades = np.array([12, 14, 15, 18, 22, 25, 33, 35, 40, 45])\n",
    "\n",
    "# Número de clusters\n",
    "k = 3\n",
    "\n",
    "\n",
    "# 2. Centróides iniciais (escolha aleatória ou fixa)\n",
    "# Vamos fixar manualmente para seguir o exemplo didático\n",
    "\n",
    "centroides = np.array([15, 25, 40], dtype=float)\n",
    "print(\"Centróides iniciais:\", centroides)\n",
    "\n",
    "# 3. Função para calcular distâncias e reatribuir clusters\n",
    "def atribuir_clusters(dados, centroides):\n",
    "    clusters = []\n",
    "    for idade in dados:\n",
    "\n",
    "        # calcula distância de cada idade para cada centróide\n",
    "        distancias = np.abs(idade - centroides)\n",
    "\n",
    "        # escolhe o índice do centróide mais próximo\n",
    "        cluster = np.argmin(distancias)\n",
    "        clusters.append(cluster)\n",
    "\n",
    "    return np.array(clusters)\n",
    "\n",
    "\n",
    "# 4. Iterações do K-Means (manual)\n",
    "\n",
    "max_iter = 10\n",
    "\n",
    "for i in range(max_iter):\n",
    "    clusters = atribuir_clusters(idades, centroides)\n",
    "    novos_centroides = np.array([idades[clusters == j].mean() for j in range(k)])\n",
    "    \n",
    "    print(f\"\\nIteração {i+1}\")\n",
    "    print(\"Atribuição de clusters:\", clusters)\n",
    "    print(\"Novos centróides:\", novos_centroides)\n",
    "\n",
    "    # condição de parada (quando centróides não mudam mais)\n",
    "    if np.allclose(centroides, novos_centroides):\n",
    "        print(\"\\n Convergência atingida!\")\n",
    "        break\n",
    "\n",
    "    centroides = novos_centroides\n",
    "\n",
    "# 5. Resultado final\n",
    "\n",
    "for j in range(k):\n",
    "    grupo = idades[clusters == j]\n",
    "    print(f\"\\nCluster {j+1}: {grupo} (centróide = {centroides[j]:.2f})\")\n",
    "\n",
    "\n",
    "\n",
    "# 6. Visualização gráfica (1D)\n",
    "colors = ['red', 'green', 'blue']\n",
    "\n",
    "plt.figure(figsize=(8,2))\n",
    "for j in range(k):\n",
    "    plt.scatter(idades[clusters == j], [0]*len(idades[clusters == j]),\n",
    "                color=colors[j], label=f'Cluster {j+1}')\n",
    "\n",
    "plt.scatter(centroides, [0]*len(centroides), color='black', marker='X', s=100, label='Centróides')\n",
    "plt.yticks([])\n",
    "plt.xlabel('Idade')\n",
    "plt.title('Agrupamento de idades (K-Means)')\n",
    "plt.legend()\n",
    "plt.show()\n",
    "\n",
    "\n",
    "\n",
    "# 7. Comparação com KMeans do scikit-learn\n",
    "\n",
    "\n",
    "#modelo = KMeans(n_clusters=k, random_state=0, n_init='auto')\n",
    "\n",
    "#modelo.fit(idades.reshape(-1,1))\n",
    "\n",
    "\n",
    "\n",
    "#print(\"\\n=== Comparação com scikit-learn ===\")\n",
    "\n",
    "#print(\"Centróides encontrados:\", modelo.cluster_centers_.flatten())\n",
    "\n",
    "#print(\"Labels atribuídos:\", modelo.labels_)"
   ]
  }
 ],
 "metadata": {
  "kernelspec": {
   "display_name": "Python 3",
   "language": "python",
   "name": "python3"
  },
  "language_info": {
   "codemirror_mode": {
    "name": "ipython",
    "version": 3
   },
   "file_extension": ".py",
   "mimetype": "text/x-python",
   "name": "python",
   "nbconvert_exporter": "python",
   "pygments_lexer": "ipython3",
   "version": "3.10.0"
  }
 },
 "nbformat": 4,
 "nbformat_minor": 5
}
