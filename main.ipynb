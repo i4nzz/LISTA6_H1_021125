{
 "cells": [
  {
   "cell_type": "markdown",
   "id": "ed986386",
   "metadata": {},
   "source": [
    "Exercício 1 — Conceito básico\n",
    "1.\tExplique com suas próprias palavras o que é o algoritmo K-Means.\n",
    "R: O K-Means é um algoritimo de agrupamento, ele pega o conjunto de dados e cria grupos, que são chamados de clusters.\n",
    "\n",
    "2.\tPor que é necessário escolher o número k antes de rodar o algoritmo?\n",
    "R: O 'k' é o numero de Clusters, ou seja, quantos grupos vao ser formados.\n",
    "\n",
    "3.\tEm uma dimensão, o que representa o “centroide” de um cluster?\n",
    "R: O Centroide de um cluster é a media dos valores dentro daquele grupo, tipo, um Cluster x com os valores 20,22,25,27 a media seria +- 23.5. Supondo que os valores referem-se a idades, 23.5 seria a idade media do grupo x."
   ]
  },
  {
   "cell_type": "markdown",
   "id": "5018e450",
   "metadata": {},
   "source": [
    "Exercício 2 — Execução manual\n",
    "Dado o conjunto de pontos:\n",
    "X = {2, 4, 5, 10, 12, 20, 25, 30} e k = 3.\n",
    "1.\tInicialize os centroides com valores iniciais C₁ = 4, C₂ = 12, C₃ = 25.\n",
    "2.\tAtribua cada ponto ao centroide mais próximo.\n",
    "3.\tCalcule os novos centroides (a média dos pontos atribuídos).\n",
    "4.\tRepita o processo até que os centroides não mudem mais.\n",
    "5.\tMostre o resultado final (os 3 grupos formados e seus centroides).\n"
   ]
  },
  {
   "cell_type": "code",
   "execution_count": 20,
   "id": "80988920",
   "metadata": {},
   "outputs": [
    {
     "name": "stdout",
     "output_type": "stream",
     "text": [
      "\n",
      "Valores de x: [ 2  4  5 10 12 20 25 30]\n",
      "Clusters: 3\n",
      "Centroides iniciais: C1 = 4, C2 = 12, C3 = 25\n"
     ]
    }
   ],
   "source": [
    "import numpy as np\n",
    "\n",
    "x = np.array([2, 4, 5, 10, 12, 20, 25, 30])\n",
    "k = 3\n",
    "\n",
    "# Inicialização dos centroides\n",
    "centroides = np.array([4, 12, 25])\n",
    "\n",
    "print(f\"\\nValores de x: {x}\")\n",
    "print(f\"Clusters: {k}\")\n",
    "print(f\"Centroides iniciais: C1 = {centroides[0]}, C2 = {centroides[1]}, C3 = {centroides[2]}\")"
   ]
  },
  {
   "cell_type": "code",
   "execution_count": 22,
   "id": "c5dcd0da",
   "metadata": {},
   "outputs": [
    {
     "name": "stdout",
     "output_type": "stream",
     "text": [
      "ITERAÇÃO 1\n",
      " C1 = 3.67\n",
      " C1 = 11.00\n",
      " C1 = 25.00\n",
      "\n",
      "Novos centroides calculados:\n",
      "  C1 = média: 3.67\n",
      "  C1 = média: 11.00\n",
      "  C1 = média: 25.00\n",
      "ITERAÇÃO 2\n",
      " C1 = 3.67\n",
      " C1 = 11.00\n",
      " C1 = 25.00\n",
      "\n",
      "Novos centroides calculados:\n",
      "  C1 = média: 3.67\n",
      "  C1 = média: 11.00\n",
      "  C1 = média: 25.00\n",
      "\n",
      "Convergência alcançada! Os centroides não mudaram.\n"
     ]
    }
   ],
   "source": [
    "# atribuir cada ponto ao centroide mais próximo\n",
    "def atribuir_clusters(pontos, centroides):\n",
    "    clusters = []\n",
    "    for ponto in pontos:\n",
    "        distancias = [abs(ponto - centroide) for centroide in centroides]\n",
    "        cluster_mais_proximo = np.argmin(distancias)\n",
    "        clusters.append(cluster_mais_proximo)\n",
    "    return np.array(clusters)\n",
    "\n",
    "# calcular novos centroides\n",
    "def calcular_centroides(pontos, clusters, k):\n",
    "    newCentroide = []\n",
    "    for i in range(k):\n",
    "        pontos_do_cluster = pontos[clusters == i]\n",
    "        if len(pontos_do_cluster) > 0:\n",
    "            newCentroide.append(np.mean(pontos_do_cluster))\n",
    "        else:\n",
    "            newCentroide.append(centroides[i])\n",
    "    return np.array(newCentroide)\n",
    "\n",
    "# K-Means iterativo\n",
    "iteracao = 0\n",
    "max_iteracoes = 10\n",
    "centroides_anteriores = None\n",
    "\n",
    "while iteracao < max_iteracoes:\n",
    "    iteracao += 1\n",
    "    print(f\"ITERAÇÃO {iteracao}\")\n",
    "    \n",
    "    # Passo 1: Atribuir cada ponto ao centroide mais próximo\n",
    "    clusters = atribuir_clusters(x, centroides)\n",
    "     \n",
    "    for cluster_id in range(k):\n",
    "        pontosCluster = x[clusters == cluster_id]\n",
    "        print(f\" C1 = {centroides[cluster_id]:.2f}\")\n",
    "    \n",
    "    # Passo 2: Calcular novos centroides\n",
    "    novosCentroides = calcular_centroides(x, clusters, k)\n",
    "    \n",
    "    print(\"\\nNovos centroides calculados:\")\n",
    "    for i in range(k):\n",
    "        pontosCluster = x[clusters == i]\n",
    "        if len(pontosCluster) > 0:\n",
    "            media = np.mean(pontosCluster)\n",
    "            print(f\"  C1 = média: {media:.2f}\")\n",
    "    \n",
    "    # Verificar convergência\n",
    "    if centroides_anteriores is not None and np.allclose(centroides, novosCentroides):\n",
    "        print(f\"\\nConvergência alcançada! Os centroides não mudaram.\")\n",
    "        break\n",
    "    \n",
    "    centroides_anteriores = centroides.copy()\n",
    "    centroides = novosCentroides\n",
    "    \n"
   ]
  },
  {
   "cell_type": "code",
   "execution_count": 23,
   "id": "b8140f0b",
   "metadata": {},
   "outputs": [
    {
     "name": "stdout",
     "output_type": "stream",
     "text": [
      "RESULTADO\n",
      "\n",
      "Total de iterações: 2\n",
      "\n",
      "Centroides finais:\n",
      "  C1 = 3.67\n",
      "  C2 = 11.00\n",
      "  C3 = 25.00\n",
      "\n",
      "Grupos formados:\n",
      " Centroide = 3.67\n",
      " Centroide = 11.00\n",
      " Centroide = 25.00\n"
     ]
    }
   ],
   "source": [
    "\n",
    "print(\"RESULTADO\")\n",
    "\n",
    "print(f\"\\nTotal de iterações: {iteracao}\")\n",
    "print(f\"\\nCentroides finais:\")\n",
    "print(f\"  C1 = {centroides[0]:.2f}\")\n",
    "print(f\"  C2 = {centroides[1]:.2f}\")\n",
    "print(f\"  C3 = {centroides[2]:.2f}\")\n",
    "\n",
    "print(f\"\\nGrupos formados:\")\n",
    "for cluster_id in range(k):\n",
    "    pontosCluster = x[clusters == cluster_id]\n",
    "    print(f\" Centroide = {centroides[cluster_id]:.2f}\")\n"
   ]
  },
  {
   "cell_type": "code",
   "execution_count": 24,
   "id": "d3a005a2",
   "metadata": {},
   "outputs": [
    {
     "data": {
      "image/png": "[encoded data removed]",
      "text/plain": [
       "<Figure size 1200x400 with 1 Axes>"
      ]
     },
     "metadata": {},
     "output_type": "display_data"
    }
   ],
   "source": [
    "# Visualização dos clusters\n",
    "import matplotlib.pyplot as plt\n",
    "\n",
    "plt.figure(figsize=(12, 4))\n",
    "\n",
    "# Plot dos pontos coloridos por cluster\n",
    "cores = ['red', 'blue', 'green']\n",
    "for cluster_id in range(k):\n",
    "    pontosCluster = x[clusters == cluster_id]\n",
    "    plt.scatter(pontosCluster, [0] * len(pontosCluster), \n",
    "               c=cores[cluster_id], s=100, label=f'Cluster {cluster_id + 1}', alpha=0.6)\n",
    "    \n",
    "    # Marcar os centroides\n",
    "    plt.scatter(centroides[cluster_id], 0, c=cores[cluster_id], \n",
    "               marker='X', s=300, edgecolors='black', linewidths=2,\n",
    "               label=f'Centroide {cluster_id + 1}')\n",
    "\n",
    "plt.xlabel('Valor', fontsize=12)\n",
    "plt.title('Resultado do K-Means Manual (k=3)', fontsize=14, fontweight='bold')\n",
    "plt.yticks([])\n",
    "plt.legend(bbox_to_anchor=(1.05, 1), loc='upper left')\n",
    "plt.grid(True, alpha=0.3)\n",
    "plt.tight_layout()\n",
    "plt.show()\n"
   ]
  },
  {
   "cell_type": "markdown",
   "id": "3f3bd12c",
   "metadata": {},
   "source": [
    "Exercício 3 — Convergência\n",
    "Explique o que significa dizer que o K-Means convergiu. Qual é o critério de parada do algoritmo?"
   ]
  },
  {
   "cell_type": "markdown",
   "id": "efe2ad1f",
   "metadata": {},
   "source": [
    "Exercício 4 — Diferença entre inicializações\n",
    "Use o mesmo conjunto:\n",
    "X = {1, 2, 3, 7, 8, 9, 15, 16, 18}, mas agora teste duas escolhas diferentes de centroides iniciais:\n",
    "•   Caso A: {2, 8, 16}\n",
    "•\tCaso B: {1, 7, 15}\n",
    "Compare os grupos finais.\n",
    "O resultado é o mesmo?\n",
    "O que isso mostra sobre a importância da inicialização?\n"
   ]
  },
  {
   "cell_type": "markdown",
   "id": "5d57813e",
   "metadata": {},
   "source": [
    "Exercício 5 — Implementação simples (Use o Python apresentado em sala)\n",
    "Implemente o algoritmo K-Means para 1 dimensão.\n",
    "Use o conjunto:\n",
    "X = {2, 4, 5, 10, 12, 20, 25, 30}, k = 3.\n",
    "Mostre:\n",
    "•\tA evolução dos centroides a cada iteração\n",
    "•\tO agrupamento final\n"
   ]
  },
  {
   "cell_type": "markdown",
   "id": "3aacc126",
   "metadata": {},
   "source": [
    "Exercício 6 — Implementação (Use o Python apresentado em sala)\n",
    "Implemente o algoritmo e use como base de dados o arquivo de flores apresentado em sala (csv) com as 4 dimensões do arquivo: altura e largura da sépala e pétala. Considere k = 4."
   ]
  }
 ],
 "metadata": {
  "kernelspec": {
   "display_name": "Python 3",
   "language": "python",
   "name": "python3"
  },
  "language_info": {
   "codemirror_mode": {
    "name": "ipython",
    "version": 3
   },
   "file_extension": ".py",
   "mimetype": "text/x-python",
   "name": "python",
   "nbconvert_exporter": "python",
   "pygments_lexer": "ipython3",
   "version": "3.10.0"
  }
 },
 "nbformat": 4,
 "nbformat_minor": 5
}
